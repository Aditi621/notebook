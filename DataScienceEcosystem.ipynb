{
 "cells": [
  {
   "cell_type": "markdown",
   "id": "cfce5cc0",
   "metadata": {},
   "source": [
    "# Data Science Tools and Ecosystems"
   ]
  },
  {
   "cell_type": "markdown",
   "id": "003fdb94",
   "metadata": {},
   "source": [
    "in this notebook, Data Science Tools and Ecosystem are summarized"
   ]
  },
  {
   "cell_type": "markdown",
   "id": "e56604ed",
   "metadata": {},
   "source": [
    "Some of the popular languages that Data Scientists use are:\n",
    "1. Python\n",
    "2. R\n",
    "3. SQL\n",
    "4. Scala\n",
    "5. Java\n",
    "6. C++\n",
    "7. Julia"
   ]
  },
  {
   "cell_type": "markdown",
   "id": "ca3064db",
   "metadata": {},
   "source": [
    "Some of the common used libraries used by Data Scientists include:\n",
    "1. Pandas\n",
    "2. NumPy\n",
    "3. Matplotlib"
   ]
  },
  {
   "cell_type": "markdown",
   "id": "a3d3a4f5",
   "metadata": {},
   "source": [
    "| Data science tools |\n",
    "|:------------------:|\n",
    "| jupyter |\n",
    "| spyder |\n",
    "| Rodeo |"
   ]
  },
  {
   "cell_type": "markdown",
   "id": "375cb379",
   "metadata": {},
   "source": [
    "### Below are a few examples of evaluating arithematic expressions in python :\n",
    "(29+67+7)%9\n"
   ]
  },
  {
   "cell_type": "code",
   "execution_count": 18,
   "id": "2490df4f",
   "metadata": {},
   "outputs": [
    {
     "data": {
      "text/plain": [
       "17"
      ]
     },
     "execution_count": 18,
     "metadata": {},
     "output_type": "execute_result"
    }
   ],
   "source": [
    "#this is a simple arithematic expression to multiply and then add integers\n",
    "(3*4)+5\n"
   ]
  },
  {
   "cell_type": "code",
   "execution_count": 21,
   "id": "e9155eb6",
   "metadata": {},
   "outputs": [
    {
     "data": {
      "text/plain": [
       "3.3333333333333335"
      ]
     },
     "execution_count": 21,
     "metadata": {},
     "output_type": "execute_result"
    }
   ],
   "source": [
    "#this will convert 200 minutes into hours by divinding by 60\n",
    "200/60"
   ]
  },
  {
   "cell_type": "markdown",
   "id": "70056a09",
   "metadata": {},
   "source": [
    "#### List popular languages for data science\n",
    "**objectives:**\n",
    "* learn how to use jupyter notebook\n",
    "* learn the different tools used in data science and their uses\n",
    "* what are APIs \n",
    "* different liabreries used in data science\n",
    "* leaned how to use Git"
   ]
  },
  {
   "cell_type": "markdown",
   "id": "9c004b64",
   "metadata": {},
   "source": [
    "## Author\n",
    "Aditi Swarna"
   ]
  },
  {
   "cell_type": "code",
   "execution_count": null,
   "id": "ade1e93d",
   "metadata": {},
   "outputs": [],
   "source": []
  }
 ],
 "metadata": {
  "kernelspec": {
   "display_name": "Python 3",
   "language": "python",
   "name": "python3"
  },
  "language_info": {
   "codemirror_mode": {
    "name": "ipython",
    "version": 3
   },
   "file_extension": ".py",
   "mimetype": "text/x-python",
   "name": "python",
   "nbconvert_exporter": "python",
   "pygments_lexer": "ipython3",
   "version": "3.8.8"
  }
 },
 "nbformat": 4,
 "nbformat_minor": 5
}
